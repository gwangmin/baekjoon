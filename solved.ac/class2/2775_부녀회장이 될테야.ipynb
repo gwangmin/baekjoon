{
 "cells": [
  {
   "cell_type": "code",
   "execution_count": 17,
   "id": "80a8bcdf",
   "metadata": {},
   "outputs": [],
   "source": [
    "def get_people_n(k, n):\n",
    "    if k == 0:\n",
    "        return n\n",
    "    return sum([get_people_n(k-1, i) for i in range(1, n+1)])"
   ]
  },
  {
   "cell_type": "code",
   "execution_count": null,
   "id": "625c576c",
   "metadata": {},
   "outputs": [
    {
     "name": "stdout",
     "output_type": "stream",
     "text": [
      "6\n",
      "10\n"
     ]
    }
   ],
   "source": [
    "# import sys\n",
    "# input = lambda : sys.stdin.readline().strip()\n",
    "\n",
    "def get_people_n(k, n):\n",
    "    apt = [[0 for i in range(n)] for floor_n in range(k+1)]\n",
    "    for floor_n in range(k+1):\n",
    "        for i in range(n):\n",
    "            if floor_n == 0:\n",
    "                apt[floor_n][i] = i+1\n",
    "            else:\n",
    "                s = 0\n",
    "                for j in range(i+1):\n",
    "                    s += apt[floor_n-1][j]\n",
    "                apt[floor_n][i] = s\n",
    "    return apt[k][n-1]\n",
    "\n",
    "T = int(input())\n",
    "k, n = [], []\n",
    "for _ in range(T):\n",
    "    k.append(int(input()))\n",
    "    n.append(int(input()))\n",
    "\n",
    "for i in range(T):\n",
    "    print(get_people_n(k[i], n[i]))"
   ]
  },
  {
   "cell_type": "code",
   "execution_count": null,
   "id": "28d68a14",
   "metadata": {},
   "outputs": [],
   "source": []
  }
 ],
 "metadata": {
  "kernelspec": {
   "display_name": "baekjoon",
   "language": "python",
   "name": "python3"
  },
  "language_info": {
   "codemirror_mode": {
    "name": "ipython",
    "version": 3
   },
   "file_extension": ".py",
   "mimetype": "text/x-python",
   "name": "python",
   "nbconvert_exporter": "python",
   "pygments_lexer": "ipython3",
   "version": "3.9.21"
  }
 },
 "nbformat": 4,
 "nbformat_minor": 5
}
