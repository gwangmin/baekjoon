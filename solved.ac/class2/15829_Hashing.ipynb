{
 "cells": [
  {
   "cell_type": "code",
   "execution_count": null,
   "id": "af83aaee",
   "metadata": {},
   "outputs": [],
   "source": [
    "# import sys\n",
    "# input = lambda : sys.stdin.readline().strip()\n",
    "\n",
    "l = int(input())\n",
    "s = input()\n",
    "\n",
    "r = 31\n",
    "M = 1234567891\n",
    "\n",
    "H = 0\n",
    "for i, c in enumerate(s):\n",
    "    a_i = ord(c) - 96\n",
    "    r_i = r ** i\n",
    "    H += a_i * r_i\n",
    "H = H % M\n",
    "\n",
    "print(H)"
   ]
  }
 ],
 "metadata": {
  "kernelspec": {
   "display_name": "my_dashboards",
   "language": "python",
   "name": "python3"
  },
  "language_info": {
   "codemirror_mode": {
    "name": "ipython",
    "version": 3
   },
   "file_extension": ".py",
   "mimetype": "text/x-python",
   "name": "python",
   "nbconvert_exporter": "python",
   "pygments_lexer": "ipython3",
   "version": "3.9.21"
  }
 },
 "nbformat": 4,
 "nbformat_minor": 5
}
