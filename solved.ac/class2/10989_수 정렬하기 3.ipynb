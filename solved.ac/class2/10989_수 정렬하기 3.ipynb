{
 "cells": [
  {
   "cell_type": "code",
   "execution_count": null,
   "id": "7b1b800f",
   "metadata": {},
   "outputs": [
    {
     "name": "stdout",
     "output_type": "stream",
     "text": [
      "1\n",
      "2\n",
      "5\n"
     ]
    }
   ],
   "source": [
    "# import sys\n",
    "# input = lambda : sys.stdin.readline().strip()\n",
    "\n",
    "N = int(input())\n",
    "\n",
    "# 0부터 최댓값까지의 카운트 배열 생성 및 0으로 초기화\n",
    "count = [0] * (10000 + 1)\n",
    "\n",
    "# 각 숫자의 등장 횟수 세기\n",
    "for _ in range(N):\n",
    "    v = int(input())\n",
    "    count[v] += 1\n",
    "\n",
    "# 정렬 결과 출력 (등장 횟수만큼 인덱스 출력)\n",
    "for i in range(len(count)):\n",
    "    for _ in range(count[i]):\n",
    "        print(i)"
   ]
  },
  {
   "cell_type": "code",
   "execution_count": null,
   "id": "97eb9bea",
   "metadata": {},
   "outputs": [],
   "source": []
  }
 ],
 "metadata": {
  "kernelspec": {
   "display_name": "baekjoon",
   "language": "python",
   "name": "python3"
  },
  "language_info": {
   "codemirror_mode": {
    "name": "ipython",
    "version": 3
   },
   "file_extension": ".py",
   "mimetype": "text/x-python",
   "name": "python",
   "nbconvert_exporter": "python",
   "pygments_lexer": "ipython3",
   "version": "3.9.21"
  }
 },
 "nbformat": 4,
 "nbformat_minor": 5
}
