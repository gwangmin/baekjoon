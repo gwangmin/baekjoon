{
 "cells": [
  {
   "cell_type": "code",
   "execution_count": null,
   "id": "0aeb2f41",
   "metadata": {},
   "outputs": [],
   "source": [
    "# import sys\n",
    "# input = lambda : sys.stdin.readline().strip()\n",
    "\n",
    "def get_FizzBuzz_i(i):\n",
    "    if ((i%3)==0) and ((i%5)==0):\n",
    "        return 'FizzBuzz'\n",
    "    elif (i%3)==0:\n",
    "        return 'Fizz'\n",
    "    elif (i%5)==0:\n",
    "        return 'Buzz'\n",
    "    else:\n",
    "        return str(i)\n",
    "\n",
    "s = []\n",
    "for _ in range(3):\n",
    "    s.append(input())\n",
    "\n",
    "i = 0\n",
    "idx = 0\n",
    "while True:\n",
    "    if get_FizzBuzz_i(i) == s[idx]:\n",
    "        idx += 1\n",
    "    else:\n",
    "        idx = 0\n",
    "    i += 1\n",
    "    if 2 < idx:\n",
    "        break\n",
    "print(get_FizzBuzz_i(i))"
   ]
  },
  {
   "cell_type": "code",
   "execution_count": 7,
   "id": "310a1e88",
   "metadata": {},
   "outputs": [
    {
     "name": "stdout",
     "output_type": "stream",
     "text": [
      "980806\n"
     ]
    }
   ],
   "source": [
    "# import sys\n",
    "# input = lambda : sys.stdin.readline().strip()\n",
    "\n",
    "def get_FizzBuzz_i(i):\n",
    "    if ((i%3)==0) and ((i%5)==0):\n",
    "        return 'FizzBuzz'\n",
    "    elif (i%3)==0:\n",
    "        return 'Fizz'\n",
    "    elif (i%5)==0:\n",
    "        return 'Buzz'\n",
    "    else:\n",
    "        return str(i)\n",
    "\n",
    "n = None\n",
    "for i in range(3):\n",
    "    s = input()\n",
    "    if s.isdigit():\n",
    "        n = int(s) + (3-i)\n",
    "print(get_FizzBuzz_i(n))"
   ]
  },
  {
   "cell_type": "code",
   "execution_count": null,
   "id": "12593217",
   "metadata": {},
   "outputs": [],
   "source": []
  }
 ],
 "metadata": {
  "kernelspec": {
   "display_name": "baekjoon",
   "language": "python",
   "name": "python3"
  },
  "language_info": {
   "codemirror_mode": {
    "name": "ipython",
    "version": 3
   },
   "file_extension": ".py",
   "mimetype": "text/x-python",
   "name": "python",
   "nbconvert_exporter": "python",
   "pygments_lexer": "ipython3",
   "version": "3.9.21"
  }
 },
 "nbformat": 4,
 "nbformat_minor": 5
}
