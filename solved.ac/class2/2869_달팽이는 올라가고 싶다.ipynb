{
 "cells": [
  {
   "cell_type": "code",
   "execution_count": null,
   "id": "05286b48",
   "metadata": {},
   "outputs": [],
   "source": [
    "# import sys\n",
    "# input = lambda : sys.stdin.readline().strip()\n",
    "\n",
    "A, B, V = map(int, input().split())\n",
    "\n",
    "import math\n",
    "days = math.ceil(((V-A) / (A-B))) + 1\n",
    "print(days)"
   ]
  }
 ],
 "metadata": {
  "language_info": {
   "name": "python"
  }
 },
 "nbformat": 4,
 "nbformat_minor": 5
}
